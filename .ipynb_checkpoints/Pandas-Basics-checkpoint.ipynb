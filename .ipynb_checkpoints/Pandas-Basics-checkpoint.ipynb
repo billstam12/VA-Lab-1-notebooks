{
 "cells": [
  {
   "cell_type": "markdown",
   "id": "a54e2c93",
   "metadata": {},
   "source": [
    "# Pandas Basics \n",
    "\n",
    "The majority of the visualizations you will generate in the context of this lab, will visualize data stored in *pandas* dataframes. \n",
    "**Pandas** is an essential data analysis library for Python. It has functions for analyzing, cleaning, exploring, and manipulating data.\n",
    "\n",
    "The main data structure introduced in Pandas is called a **Data Frame**.  This is a two-dimensional table of data, similar to an SQL table or a spreadsheet.  Pandas also provides a one-dimensional data structure called a **Series** that we will encounter when accesing a single column or row of a Data Frame."
   ]
  },
  {
   "cell_type": "markdown",
   "id": "250380ff",
   "metadata": {},
   "source": [
    "> ### Datasets:\n",
    ">\n",
    "> **[International tourism, number of arrivals](https://data.worldbank.org/indicator/ST.INT.ARVL)** \n",
    ">\n",
    ">This dataset contains the yearly number of inbound tourists for every country. The data on inbound tourists refer to the number of arrivals, not to the number of people traveling. Thus a person who makes several trips to a country during a given period is counted each time as a new arrival.\n",
    ">    \n",
    ">\n",
    ">**[TripAdvisor European restaurants](https://www.kaggle.com/datasets/stefanoleone992/tripadvisor-european-restaurants)**\n",
    ">\n",
    ">This dataset includes restaurants with attributes such as location data, average rating, number of reviews, open hours, cuisine types, awards, etc. The dataset combines the restaurants from the main European countries. In the context of this lab, we will work with a subset of the dataset that includes restaurants in Greece.\n",
    "\n",
    "\n",
    "\n"
   ]
  },
  {
   "cell_type": "markdown",
   "id": "40ee138e",
   "metadata": {},
   "source": [
    "## Importing Data"
   ]
  },
  {
   "cell_type": "markdown",
   "id": "5cf2e5f4",
   "metadata": {},
   "source": [
    "First, we'll import *pandas* and *numpy*. *Numpy* is a very useful library for working with arrays of data in Python."
   ]
  },
  {
   "cell_type": "code",
   "execution_count": null,
   "id": "b252e170",
   "metadata": {},
   "outputs": [],
   "source": [
    "import numpy as np  # useful for many scientific computing in Python\n",
    "import pandas as pd # primary data structure library"
   ]
  },
  {
   "cell_type": "markdown",
   "id": "b130f857",
   "metadata": {},
   "source": [
    "Pandas has a variety of functions named `read_xxx` for reading data in different formats. In the context of this lab, and for the assignment, you will need to read `csv` files. However, Pandas supports several other file formats such as json, excel, and sql.\n",
    "\n",
    "\n",
    "To read a CSV file, we use `read_csv`. There are many options to `read_csv` that can be used.  For example, you can set the specific delimiter used in your file, instead of the default `sep=','`.\n",
    "\n",
    "Then, let's download and import our dataset using *pandas*'s `read_csv()` method."
   ]
  },
  {
   "cell_type": "code",
   "execution_count": null,
   "id": "435b872a",
   "metadata": {},
   "outputs": [],
   "source": [
    "# the url string of our CSV file\n",
    "url = \"./international_tourism.csv\"\n",
    "\n",
    "# Read the .csv file and store it as a pandas Data Frame\n",
    "df_tourism = pd.read_csv(url)\n",
    "\n",
    "# Output object type\n",
    "type(df_tourism)"
   ]
  },
  {
   "cell_type": "markdown",
   "id": "9fee96f1",
   "metadata": {},
   "source": [
    "## Viewing Data"
   ]
  },
  {
   "cell_type": "markdown",
   "id": "4af5f355",
   "metadata": {},
   "source": [
    "We can view our Data Frame by calling the head() function:"
   ]
  },
  {
   "cell_type": "code",
   "execution_count": null,
   "id": "c794deb2",
   "metadata": {},
   "outputs": [],
   "source": [
    "df_tourism.head()"
   ]
  },
  {
   "cell_type": "markdown",
   "id": "9a67b13c",
   "metadata": {},
   "source": [
    "The head() function simply shows the first 5 rows of our Data Frame.  You can specify the number of rows you'd like to see as follows:"
   ]
  },
  {
   "cell_type": "code",
   "execution_count": null,
   "id": "f038fb01",
   "metadata": {
    "button": false,
    "new_sheet": false,
    "run_control": {
     "read_only": false
    }
   },
   "outputs": [],
   "source": [
    "df_tourism.head(10)"
   ]
  },
  {
   "cell_type": "markdown",
   "id": "1148501a",
   "metadata": {
    "button": false,
    "new_sheet": false,
    "run_control": {
     "read_only": false
    }
   },
   "source": [
    "We can also view the bottom 5 rows of the dataset using the `tail()` function.\n"
   ]
  },
  {
   "cell_type": "code",
   "execution_count": null,
   "id": "71305cb4",
   "metadata": {
    "button": false,
    "new_sheet": false,
    "run_control": {
     "read_only": false
    }
   },
   "outputs": [],
   "source": [
    "df_tourism.tail()"
   ]
  },
  {
   "cell_type": "markdown",
   "id": "e5303af0",
   "metadata": {},
   "source": [
    "If we wanted to view the entire Data Frame we would simply write the following:"
   ]
  },
  {
   "cell_type": "code",
   "execution_count": null,
   "id": "dbd47bbe",
   "metadata": {},
   "outputs": [],
   "source": [
    "# Output entire Data Frame\n",
    "df_tourism"
   ]
  },
  {
   "cell_type": "markdown",
   "id": "82538dcc",
   "metadata": {},
   "source": [
    "As you can see, we have a table where each row is a record of our data, corresponding to a different country."
   ]
  },
  {
   "cell_type": "markdown",
   "id": "8803d9d9",
   "metadata": {
    "button": false,
    "new_sheet": false,
    "run_control": {
     "read_only": false
    }
   },
   "source": [
    "When analyzing a dataset, it's always a good idea to get some basic information about your dataframe. We can do this by using the `info()` method.\n",
    "\n",
    "This method can be used to get a short summary of the dataframe.\n"
   ]
  },
  {
   "cell_type": "code",
   "execution_count": null,
   "id": "14faa728",
   "metadata": {},
   "outputs": [],
   "source": [
    "df_tourism.info(verbose=True)"
   ]
  },
  {
   "cell_type": "markdown",
   "id": "8eb9f24c",
   "metadata": {},
   "source": [
    "We can view the data types of our data frame columns with by calling .dtypes on our data frame:"
   ]
  },
  {
   "cell_type": "code",
   "execution_count": null,
   "id": "875fbfbd",
   "metadata": {},
   "outputs": [],
   "source": [
    "df_tourism.dtypes"
   ]
  },
  {
   "cell_type": "markdown",
   "id": "962d4139",
   "metadata": {
    "button": false,
    "new_sheet": false,
    "run_control": {
     "read_only": false
    }
   },
   "source": [
    "To get the list of column headers we can call upon the data frame's `columns` instance variable.\n"
   ]
  },
  {
   "cell_type": "code",
   "execution_count": null,
   "id": "d980aac9",
   "metadata": {
    "button": false,
    "new_sheet": false,
    "run_control": {
     "read_only": false
    }
   },
   "outputs": [],
   "source": [
    "df_tourism.columns"
   ]
  },
  {
   "cell_type": "markdown",
   "id": "c4bded28",
   "metadata": {
    "button": false,
    "new_sheet": false,
    "run_control": {
     "read_only": false
    }
   },
   "source": [
    "Similarly, to get the index of the dataframe we use the `.index` instance variable.\n"
   ]
  },
  {
   "cell_type": "code",
   "execution_count": null,
   "id": "8908891b",
   "metadata": {
    "button": false,
    "new_sheet": false,
    "run_control": {
     "read_only": false
    },
    "scrolled": true
   },
   "outputs": [],
   "source": [
    "df_tourism.index"
   ]
  },
  {
   "cell_type": "markdown",
   "id": "66234dad",
   "metadata": {
    "button": false,
    "new_sheet": false,
    "run_control": {
     "read_only": false
    }
   },
   "source": [
    "Note: The default type of instance variables `index` and `columns` are **NOT** `list`.\n"
   ]
  },
  {
   "cell_type": "code",
   "execution_count": null,
   "id": "b1f1a8ee",
   "metadata": {
    "button": false,
    "new_sheet": false,
    "run_control": {
     "read_only": false
    }
   },
   "outputs": [],
   "source": [
    "print(type(df_tourism.columns))\n",
    "print(type(df_tourism.index))"
   ]
  },
  {
   "cell_type": "markdown",
   "id": "f54f9f62",
   "metadata": {
    "button": false,
    "new_sheet": false,
    "run_control": {
     "read_only": false
    }
   },
   "source": [
    "To get the index and columns as lists, we can use the `tolist()` method."
   ]
  },
  {
   "cell_type": "code",
   "execution_count": null,
   "id": "4fefc403",
   "metadata": {
    "pycharm": {
     "name": "#%%\n"
    },
    "scrolled": true
   },
   "outputs": [],
   "source": [
    "df_tourism.columns.tolist()"
   ]
  },
  {
   "cell_type": "code",
   "execution_count": null,
   "id": "25008596",
   "metadata": {
    "pycharm": {
     "name": "#%%\n"
    }
   },
   "outputs": [],
   "source": [
    "df_tourism.index.tolist()"
   ]
  },
  {
   "cell_type": "markdown",
   "id": "c4b10fb2",
   "metadata": {
    "button": false,
    "new_sheet": false,
    "run_control": {
     "read_only": false
    }
   },
   "source": [
    "To view the dimensions of the dataframe, we use the `shape` instance variable of it.\n"
   ]
  },
  {
   "cell_type": "code",
   "execution_count": null,
   "id": "d491e211",
   "metadata": {
    "button": false,
    "new_sheet": false,
    "run_control": {
     "read_only": false
    }
   },
   "outputs": [],
   "source": [
    "# size of dataframe (rows, columns)\n",
    "df_tourism.shape    "
   ]
  },
  {
   "cell_type": "markdown",
   "id": "56733418",
   "metadata": {
    "button": false,
    "new_sheet": false,
    "run_control": {
     "read_only": false
    }
   },
   "source": [
    "**Note**: The main types stored in *pandas* objects are `float`, `int`, `bool`, `datetime64[ns]`, `datetime64[ns, tz]`, `timedelta[ns]`, `category`, and `object` (that includes strings). In addition, these dtypes have item sizes, e.g. `int64` and `int32`.\n"
   ]
  },
  {
   "cell_type": "markdown",
   "id": "d7bacca8",
   "metadata": {},
   "source": [
    "## Cleaning and preparing the dataset"
   ]
  },
  {
   "cell_type": "markdown",
   "id": "7ef25968",
   "metadata": {
    "button": false,
    "new_sheet": false,
    "run_control": {
     "read_only": false
    }
   },
   "source": [
    "Let's clean the data set to remove a few unnecessary columns. We can use *pandas* `drop()` method as follows:\n"
   ]
  },
  {
   "cell_type": "code",
   "execution_count": null,
   "id": "a8ee2c4c",
   "metadata": {
    "button": false,
    "new_sheet": false,
    "run_control": {
     "read_only": false
    }
   },
   "outputs": [],
   "source": [
    "# axis=0 represents rows (default) and axis=1 represents columns.\n",
    "df_tourism.drop([0], axis=0, inplace=True)\n",
    "df_tourism.head()"
   ]
  },
  {
   "cell_type": "markdown",
   "id": "be43b20c",
   "metadata": {
    "button": false,
    "new_sheet": false,
    "run_control": {
     "read_only": false
    }
   },
   "source": [
    "Let's rename the \"Country Name\" column to simplify it. For this, we use the `rename()` function by passing in a Python dictionary of old and new names:\n"
   ]
  },
  {
   "cell_type": "code",
   "execution_count": null,
   "id": "e15aaff3",
   "metadata": {
    "button": false,
    "new_sheet": false,
    "run_control": {
     "read_only": false
    }
   },
   "outputs": [],
   "source": [
    "df_tourism.rename(columns={'Country Name':'Country'}, inplace=True)\n",
    "df_tourism"
   ]
  },
  {
   "cell_type": "markdown",
   "id": "1d143c9a",
   "metadata": {},
   "source": [
    "Also, as you can see, the default index of the dataset is a numeric range. Since we would like to be able to access the data by a specific country, we can set the \"Country\" column as the index of the dataframe:"
   ]
  },
  {
   "cell_type": "code",
   "execution_count": null,
   "id": "740a0566",
   "metadata": {
    "button": false,
    "new_sheet": false,
    "run_control": {
     "read_only": false
    },
    "scrolled": true
   },
   "outputs": [],
   "source": [
    "df_tourism.set_index('Country', inplace=True)\n",
    "df_tourism\n",
    "# To reset the index, we can use \n",
    "# df_tourism.reset_index(inplace=True)\n"
   ]
  },
  {
   "cell_type": "markdown",
   "id": "1a190424",
   "metadata": {
    "button": false,
    "new_sheet": false,
    "run_control": {
     "read_only": false
    }
   },
   "source": [
    "We will also add a 'Average' column to hold the mean tourist yearly arrivals arrivals by country, as follows:\n"
   ]
  },
  {
   "cell_type": "code",
   "execution_count": null,
   "id": "126c48e6",
   "metadata": {
    "button": false,
    "new_sheet": false,
    "run_control": {
     "read_only": false
    }
   },
   "outputs": [],
   "source": [
    "df_tourism['Average'] = df_tourism.mean(axis = 1, numeric_only=True)\n",
    "df_tourism"
   ]
  },
  {
   "cell_type": "markdown",
   "id": "d0efb02d",
   "metadata": {
    "button": false,
    "new_sheet": false,
    "run_control": {
     "read_only": false
    }
   },
   "source": [
    "We can check to see how many null/missing values we have for every column in the dataset as follows:\n"
   ]
  },
  {
   "cell_type": "code",
   "execution_count": null,
   "id": "fd7f9d40",
   "metadata": {
    "button": false,
    "new_sheet": false,
    "run_control": {
     "read_only": false
    },
    "scrolled": true
   },
   "outputs": [],
   "source": [
    "df_tourism.isna().sum(axis=1)"
   ]
  },
  {
   "cell_type": "markdown",
   "id": "4c171195",
   "metadata": {
    "button": false,
    "new_sheet": false,
    "run_control": {
     "read_only": false
    }
   },
   "source": [
    "Finally, let's view a quick summary of each column in our dataframe using the `describe()` method.\n"
   ]
  },
  {
   "cell_type": "code",
   "execution_count": null,
   "id": "bae8bb1b",
   "metadata": {
    "button": false,
    "new_sheet": false,
    "run_control": {
     "read_only": false
    }
   },
   "outputs": [],
   "source": [
    "df_tourism.describe()"
   ]
  },
  {
   "cell_type": "markdown",
   "id": "02a4948f",
   "metadata": {},
   "source": [
    "As you can see, there are some columns that are completely empty, containing only NaN values. To delete these columns, we can use the `dropna()` function."
   ]
  },
  {
   "cell_type": "code",
   "execution_count": null,
   "id": "f10c9a5b",
   "metadata": {},
   "outputs": [],
   "source": [
    "df_tourism.dropna(how='all', axis=1, inplace=True)\n",
    "df_tourism.head()"
   ]
  },
  {
   "cell_type": "markdown",
   "id": "b3f34d8b",
   "metadata": {},
   "source": [
    "Similarly, to delete countries that have no values for any year, we use the following:"
   ]
  },
  {
   "cell_type": "code",
   "execution_count": null,
   "id": "4878b0b4",
   "metadata": {},
   "outputs": [],
   "source": [
    "df_tourism.dropna(how='all', axis=0, inplace=True)\n",
    "df_tourism"
   ]
  },
  {
   "cell_type": "markdown",
   "id": "4f5c5ed5",
   "metadata": {
    "button": false,
    "new_sheet": false,
    "run_control": {
     "read_only": false
    }
   },
   "source": [
    "***\n",
    "\n",
    "## Indexing and Slicing\n"
   ]
  },
  {
   "cell_type": "markdown",
   "id": "938e5ff4",
   "metadata": {
    "button": false,
    "new_sheet": false,
    "run_control": {
     "read_only": false
    }
   },
   "source": [
    "To get the data for column 2020:\n"
   ]
  },
  {
   "cell_type": "code",
   "execution_count": null,
   "id": "37129693",
   "metadata": {
    "button": false,
    "new_sheet": false,
    "run_control": {
     "read_only": false
    },
    "scrolled": true
   },
   "outputs": [],
   "source": [
    "df_tourism['2020']  # returns a series"
   ]
  },
  {
   "cell_type": "markdown",
   "id": "2ccb2af2",
   "metadata": {
    "button": false,
    "new_sheet": false,
    "run_control": {
     "read_only": false
    }
   },
   "source": [
    "To get the data for years 2018 and 2020:\n"
   ]
  },
  {
   "cell_type": "code",
   "execution_count": null,
   "id": "143c738f",
   "metadata": {
    "button": false,
    "new_sheet": false,
    "run_control": {
     "read_only": false
    }
   },
   "outputs": [],
   "source": [
    "df_tourism[['2018', '2020']] # returns a dataframe"
   ]
  },
  {
   "cell_type": "markdown",
   "id": "7a06a953",
   "metadata": {
    "button": false,
    "new_sheet": false,
    "run_control": {
     "read_only": false
    }
   },
   "source": [
    "### .loc() and .iloc()\n",
    "\n",
    ".loc() and .iloc() takes two single/list/range parameters separated by ','.\n",
    "\n",
    "The first one indicates the row and the second one indicates columns.\n",
    "\n",
    ".iloc() is position based slicing, whereas .loc() uses labels.\n",
    "\n"
   ]
  },
  {
   "cell_type": "code",
   "execution_count": null,
   "id": "d4c029f5",
   "metadata": {
    "button": false,
    "new_sheet": false,
    "run_control": {
     "read_only": false
    },
    "scrolled": true
   },
   "outputs": [],
   "source": [
    "# retrieve the complete row for Greece\n",
    "df_tourism.loc['Greece']"
   ]
  },
  {
   "cell_type": "code",
   "execution_count": null,
   "id": "464518f5",
   "metadata": {
    "pycharm": {
     "name": "#%%\n"
    }
   },
   "outputs": [],
   "source": [
    "# alternate methods\n",
    "df_tourism.iloc[71]"
   ]
  },
  {
   "cell_type": "code",
   "execution_count": null,
   "id": "47f49cd0",
   "metadata": {
    "pycharm": {
     "name": "#%%\n"
    }
   },
   "outputs": [],
   "source": [
    "df_tourism[df_tourism.index == 'Greece']"
   ]
  },
  {
   "cell_type": "code",
   "execution_count": null,
   "id": "82e20d7d",
   "metadata": {
    "button": false,
    "new_sheet": false,
    "run_control": {
     "read_only": false
    },
    "scrolled": true
   },
   "outputs": [],
   "source": [
    "# Greek data for year 2020\n",
    "df_tourism.loc['Greece', '2020']"
   ]
  },
  {
   "cell_type": "code",
   "execution_count": null,
   "id": "2161ab86",
   "metadata": {
    "pycharm": {
     "name": "#%%\n"
    }
   },
   "outputs": [],
   "source": [
    "# same result using positional indices\n",
    "df_tourism.iloc[71, 25]"
   ]
  },
  {
   "cell_type": "code",
   "execution_count": null,
   "id": "ec181109",
   "metadata": {
    "button": false,
    "new_sheet": false,
    "run_control": {
     "read_only": false
    }
   },
   "outputs": [],
   "source": [
    "# Greek data for years 2018, 2019 and 2020\n",
    "df_tourism.loc['Greece', ['2018', '2019', '2020']]"
   ]
  },
  {
   "cell_type": "code",
   "execution_count": null,
   "id": "77aa0077",
   "metadata": {
    "button": false,
    "new_sheet": false,
    "run_control": {
     "read_only": false
    }
   },
   "outputs": [],
   "source": [
    "# Same result with .loc and slicing\n",
    "df_tourism.loc['Greece', '2018':'2020']"
   ]
  },
  {
   "cell_type": "code",
   "execution_count": null,
   "id": "450c74a9",
   "metadata": {
    "pycharm": {
     "name": "#%%\n"
    }
   },
   "outputs": [],
   "source": [
    "# same result using positional indices\n",
    "df_tourism.iloc[71, [23, 24, 25]]"
   ]
  },
  {
   "cell_type": "code",
   "execution_count": null,
   "id": "fa4ea659",
   "metadata": {
    "pycharm": {
     "name": "#%%\n"
    }
   },
   "outputs": [],
   "source": [
    "# same result using slicing\n",
    "df_tourism.iloc[71, 23:26]"
   ]
  },
  {
   "cell_type": "code",
   "execution_count": null,
   "id": "c6cc9764",
   "metadata": {},
   "outputs": [],
   "source": [
    "# Return all countries for 2019 and 2020\n",
    "df_tourism.loc[:,['2019', '2020']]"
   ]
  },
  {
   "cell_type": "code",
   "execution_count": null,
   "id": "f59517a2",
   "metadata": {},
   "outputs": [],
   "source": [
    "# Return all countries for 2019 and 2020\n",
    "df_tourism.loc[:,['2019', '2020']]"
   ]
  },
  {
   "cell_type": "code",
   "execution_count": null,
   "id": "440aa8ca",
   "metadata": {},
   "outputs": [],
   "source": [
    "# Select first 5 rows for all\n",
    "df_tourism.iloc[:5, :5]"
   ]
  },
  {
   "cell_type": "code",
   "execution_count": null,
   "id": "5e720359",
   "metadata": {},
   "outputs": [],
   "source": [
    "# Select first 5 rows for years 2018, 2019 and 2020\n",
    "df_tourism.iloc[:5, 23:26]"
   ]
  },
  {
   "cell_type": "markdown",
   "id": "64b249a4",
   "metadata": {
    "button": false,
    "new_sheet": false,
    "run_control": {
     "read_only": false
    }
   },
   "source": [
    "### Filtering with conditions\n",
    "\n",
    "To filter the dataframe based on a condition, we simply pass the condition as a boolean vector.\n",
    "\n",
    "First, let's import the greek restaurants dataset into a new dataframe:"
   ]
  },
  {
   "cell_type": "code",
   "execution_count": null,
   "id": "8251c009",
   "metadata": {},
   "outputs": [],
   "source": [
    "df_restaurants = pd.read_csv('tripadvisor_restaurants_greece.csv')\n",
    "df_restaurants"
   ]
  },
  {
   "cell_type": "markdown",
   "id": "53225bfb",
   "metadata": {},
   "source": [
    "Let's view the columns of the dataset:"
   ]
  },
  {
   "cell_type": "code",
   "execution_count": null,
   "id": "7f69c805",
   "metadata": {},
   "outputs": [],
   "source": [
    "df_restaurants.columns"
   ]
  },
  {
   "cell_type": "markdown",
   "id": "4aba6b41",
   "metadata": {},
   "source": [
    "To find the unique values for a specific column, e.g. region:"
   ]
  },
  {
   "cell_type": "code",
   "execution_count": null,
   "id": "76f5bd9a",
   "metadata": {},
   "outputs": [],
   "source": [
    "df_restaurants.region.unique()"
   ]
  },
  {
   "cell_type": "code",
   "execution_count": null,
   "id": "64cf5565",
   "metadata": {
    "button": false,
    "new_sheet": false,
    "run_control": {
     "read_only": false
    },
    "scrolled": true
   },
   "outputs": [],
   "source": [
    "# create the condition boolean series\n",
    "condition = df_restaurants['region'] == 'Attica'\n",
    "print(condition)"
   ]
  },
  {
   "cell_type": "code",
   "execution_count": null,
   "id": "106d74e9",
   "metadata": {
    "button": false,
    "new_sheet": false,
    "run_control": {
     "read_only": false
    }
   },
   "outputs": [],
   "source": [
    "# pass this condition into the dataFrame\n",
    "df_restaurants[condition]"
   ]
  },
  {
   "cell_type": "code",
   "execution_count": null,
   "id": "faf6944f",
   "metadata": {
    "button": false,
    "new_sheet": false,
    "run_control": {
     "read_only": false
    }
   },
   "outputs": [],
   "source": [
    "# we can pass multiple criteria in the same line.\n",
    "df_restaurants[(df_restaurants['region'] == 'Attica') & (df_restaurants['claimed'] == 'Claimed')]\n",
    "\n",
    "# note: When using 'and' and 'or' operators, pandas requires we use '&' and '|' instead of 'and' and 'or'\n",
    "# don't forget to enclose the two conditions in parentheses"
   ]
  },
  {
   "cell_type": "code",
   "execution_count": null,
   "id": "f1a0feee-800c-4f15-b696-d7243c551c39",
   "metadata": {},
   "outputs": [],
   "source": []
  }
 ],
 "metadata": {
  "kernelspec": {
   "display_name": "Python 3 (ipykernel)",
   "language": "python",
   "name": "python3"
  },
  "language_info": {
   "codemirror_mode": {
    "name": "ipython",
    "version": 3
   },
   "file_extension": ".py",
   "mimetype": "text/x-python",
   "name": "python",
   "nbconvert_exporter": "python",
   "pygments_lexer": "ipython3",
   "version": "3.13.2"
  }
 },
 "nbformat": 4,
 "nbformat_minor": 5
}
