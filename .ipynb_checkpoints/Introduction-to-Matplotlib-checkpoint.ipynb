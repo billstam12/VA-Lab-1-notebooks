{
 "cells": [
  {
   "cell_type": "markdown",
   "id": "54ebef1d",
   "metadata": {
    "button": false,
    "new_sheet": false,
    "run_control": {
     "read_only": false
    }
   },
   "source": [
    "# Introduction to Matplotlib\n",
    "\n",
    "Matplotlib is a cross-platform, data visualization and graphical plotting library for Python. As such, it offers a viable open source alternative to MATLAB.\n",
    "\n",
    "Matplotlib and pandas are often used together, and pandas has Matplotlib integrated, so that we can easily plot a pandas dataframe or series calling their method `.plot()`."
   ]
  },
  {
   "cell_type": "markdown",
   "id": "6e470704-2b44-416c-a4c7-fab64a93fdb2",
   "metadata": {
    "button": false,
    "new_sheet": false,
    "run_control": {
     "read_only": false
    }
   },
   "source": [
    "You can create plots in `matplotlib` using the **Artist layer** or the **Scripting layer**:\n",
    "\n",
    "- **Scripting layer** (procedural method) - using `matplotlib.pyplot` as `plt`\n",
    "\n",
    "    You can use `plt` and add more elements by calling different methods procedurally; for example, `plt.title(...)` to add title or `plt.xlabel(...)` to add label to the x-axis.\n",
    "    \n",
    "\n",
    "- **Artist layer** (Object-oriented method) - using an `Axes` instance from Matplotlib\n",
    "\n",
    "    You can use an `Axes` instance of your current plot and store it in a variable (eg. `ax`). You can add more elements by calling methods on `ax`. For example, use `ax.set_title()` instead of `plt.title()` to add title,  or `ax.set_xlabel()` instead of `plt.xlabel()` to add label to the x-axis.\n",
    "\n",
    "    This option sometimes is more appropriate and flexible to use for advanced plots (e.g. when creating multiple plots).\n"
   ]
  },
  {
   "cell_type": "markdown",
   "id": "01056552",
   "metadata": {
    "button": false,
    "new_sheet": false,
    "run_control": {
     "read_only": false
    }
   },
   "source": [
    "### Matplotlib.Pyplot\n",
    "\n",
    "In this lab, we will mostly use Matplotlib's scripting layer, called `matplotlib.pyplot`. Matplotlib.Pyplot offers a command style functions to use Matplotlib. Each one of these functions incrementally modifies a matplolib figure, e.g. plot a line, set an axis label etc."
   ]
  },
  {
   "cell_type": "markdown",
   "id": "d03e4697",
   "metadata": {
    "button": false,
    "new_sheet": false,
    "run_control": {
     "read_only": false
    }
   },
   "source": [
    "Let's import `matplotlib` and `matplotlib.pyplot`, as well as pandas.\n"
   ]
  },
  {
   "cell_type": "code",
   "execution_count": null,
   "id": "eed18100",
   "metadata": {
    "button": false,
    "new_sheet": false,
    "run_control": {
     "read_only": false
    }
   },
   "outputs": [],
   "source": [
    "import matplotlib as mpl\n",
    "import matplotlib.pyplot as plt\n",
    "import pandas as pd\n",
    "import numpy as np"
   ]
  },
  {
   "cell_type": "markdown",
   "id": "0dcd936a",
   "metadata": {
    "button": false,
    "new_sheet": false,
    "run_control": {
     "read_only": false
    }
   },
   "source": [
    "To check if Matplotlib is loaded and its version run the following:\n"
   ]
  },
  {
   "cell_type": "code",
   "execution_count": null,
   "id": "ed399b7c",
   "metadata": {
    "button": false,
    "new_sheet": false,
    "run_control": {
     "read_only": false
    }
   },
   "outputs": [],
   "source": [
    "print('Matplotlib: ', mpl.__version__)"
   ]
  },
  {
   "cell_type": "markdown",
   "id": "69be35c6",
   "metadata": {},
   "source": [
    "### Importing and preparing the data\n",
    "\n",
    "We'll use the datasets we worked with in the previous notebook."
   ]
  },
  {
   "cell_type": "markdown",
   "id": "9fa79c82",
   "metadata": {},
   "source": [
    "> ### Datasets:\n",
    ">\n",
    "> **[International tourism, number of arrivals](https://data.worldbank.org/indicator/ST.INT.ARVL)** \n",
    ">\n",
    ">This dataset contains the yearly number of inbound tourists for every country. The data on inbound tourists refer to the number of arrivals, not to the number of people traveling. Thus a person who makes several trips to a country during a given period is counted each time as a new arrival.\n",
    ">    \n",
    ">\n",
    ">**[TripAdvisor European restaurants](https://www.kaggle.com/datasets/stefanoleone992/tripadvisor-european-restaurants)**\n",
    ">\n",
    ">This dataset includes restaurants with attributes such as location data, average rating, number of reviews, open hours, cuisine types, awards, etc. The dataset combines the restaurants from the main European countries. In the context of this lab, we will work with a subset of the dataset that includes restaurants in Greece.\n",
    "\n",
    "\n",
    "\n"
   ]
  },
  {
   "cell_type": "markdown",
   "id": "aaf9c7c4",
   "metadata": {},
   "source": [
    "To import and prepare the international tourism dataset:"
   ]
  },
  {
   "cell_type": "code",
   "execution_count": null,
   "id": "e391ab4c",
   "metadata": {
    "scrolled": true
   },
   "outputs": [],
   "source": [
    "# Read the .csv file and store it as a pandas Data Frame\n",
    "df_tourism = pd.read_csv(\"./international_tourism.csv\")\n",
    "\n",
    "df_tourism.drop(['Country Code', 'Indicator Name','Indicator Code'], axis=1, inplace=True)\n",
    "\n",
    "df_tourism.rename(columns={'Country Name':'Country'}, inplace=True)\n",
    "\n",
    "# set the country name column as the dataframe's index\n",
    "df_tourism.set_index('Country', inplace=True)\n",
    "\n",
    "# delete empty columns\n",
    "df_tourism.dropna(how='all', axis=1, inplace=True)\n",
    "\n",
    "# delete empty rows\n",
    "df_tourism.dropna(how='all', axis=0, inplace=True)\n",
    "\n",
    "df_tourism"
   ]
  },
  {
   "cell_type": "markdown",
   "id": "d030daf0",
   "metadata": {
    "button": false,
    "new_sheet": false,
    "run_control": {
     "read_only": false
    }
   },
   "source": [
    "## Line Plots\n"
   ]
  },
  {
   "cell_type": "markdown",
   "id": "95913a8f",
   "metadata": {
    "button": false,
    "new_sheet": false,
    "run_control": {
     "read_only": false
    }
   },
   "source": [
    "A line chart is a type of chart which displays information as a series of data points ('markers') connected by straight line segments. Line charts are commonly used to visualize the behavior of a continuous variable over a time period."
   ]
  },
  {
   "cell_type": "markdown",
   "id": "79035d95",
   "metadata": {
    "button": false,
    "new_sheet": false,
    "run_control": {
     "read_only": false
    }
   },
   "source": [
    "To generate a line plot of inbound tourists over a time period for Greece we first need to retrieve the corresponding series from the data frame:\n"
   ]
  },
  {
   "cell_type": "code",
   "execution_count": null,
   "id": "8defd468",
   "metadata": {
    "button": false,
    "new_sheet": false,
    "run_control": {
     "read_only": false
    }
   },
   "outputs": [],
   "source": [
    "greece = df_tourism.loc['Greece']\n",
    "\n",
    "greece"
   ]
  },
  {
   "cell_type": "markdown",
   "id": "46377b8f",
   "metadata": {
    "button": false,
    "new_sheet": false,
    "run_control": {
     "read_only": false
    }
   },
   "source": [
    "To plot a line chart, we call the `.plot()` function of the series.\n"
   ]
  },
  {
   "cell_type": "code",
   "execution_count": null,
   "id": "3dc04e3f",
   "metadata": {
    "button": false,
    "new_sheet": false,
    "run_control": {
     "read_only": false
    }
   },
   "outputs": [],
   "source": [
    "greece.plot()"
   ]
  },
  {
   "cell_type": "markdown",
   "id": "cd928c36",
   "metadata": {
    "button": false,
    "new_sheet": false,
    "run_control": {
     "read_only": false
    }
   },
   "source": [
    "As you can see, the the x-axis took as values the index of the series (years) and the y-axis the series values (inbound tourists to Greece). Also, let's label the x and y axis using `plt.title()`, `plt.ylabel()`, and `plt.xlabel()` as follows:\n"
   ]
  },
  {
   "cell_type": "code",
   "execution_count": null,
   "id": "ec75dfdf",
   "metadata": {
    "button": false,
    "new_sheet": false,
    "run_control": {
     "read_only": false
    },
    "tags": []
   },
   "outputs": [],
   "source": [
    "greece.plot(kind='line')\n",
    "\n",
    "plt.title('Inbound tourists to Greece')\n",
    "plt.ylabel('Number of arrivals')\n",
    "plt.xlabel('Year')\n",
    "\n",
    "plt.show()\n",
    "\n"
   ]
  },
  {
   "cell_type": "markdown",
   "id": "6bc01b6f",
   "metadata": {
    "button": false,
    "new_sheet": false,
    "run_control": {
     "read_only": false
    }
   },
   "source": [
    "Notice the dramatic drop in tourists in 2020. This can be attributed to the outbreak of the COVID-19 pandemic.\n",
    "To highlight this in our plot we can annotate it with text using the `.text(x, y, text)` method. Parameters `x` and `y` are by default in data coordinates. Since the years in the series is of type 'string', we need to specify x using the corresponding position of the year."
   ]
  },
  {
   "cell_type": "code",
   "execution_count": null,
   "id": "360e3326",
   "metadata": {
    "button": false,
    "new_sheet": false,
    "run_control": {
     "read_only": false
    }
   },
   "outputs": [],
   "source": [
    "greece.plot(kind='line')\n",
    "\n",
    "plt.title('Inbound tourists to Greece')\n",
    "plt.ylabel('Number of tourists')\n",
    "plt.xlabel('Year')\n",
    "\n",
    "plt.text(25, 25000000, 'Covid-19 Pandemic Outbreak')\n",
    "\n",
    "plt.show() "
   ]
  },
  {
   "cell_type": "markdown",
   "id": "9aad484d",
   "metadata": {
    "button": false,
    "new_sheet": false,
    "run_control": {
     "read_only": false
    }
   },
   "source": [
    "### Multiple Lines\n",
    "\n",
    "Let's compare now the number of inbound tourists in Greece, Italy and France for years 2010 to 2021.\n",
    "First, we need to retrieve the data for the required countries and years.\n"
   ]
  },
  {
   "cell_type": "markdown",
   "id": "cd5a1f67",
   "metadata": {},
   "source": [
    "\n"
   ]
  },
  {
   "cell_type": "code",
   "execution_count": null,
   "id": "01aea004",
   "metadata": {
    "button": false,
    "new_sheet": false,
    "run_control": {
     "read_only": false
    },
    "scrolled": true
   },
   "outputs": [],
   "source": [
    "df_cmp = df_tourism.loc[['Greece', 'Italy', 'France'], '2010': '2021']\n",
    "df_cmp"
   ]
  },
  {
   "cell_type": "markdown",
   "id": "1f085c08",
   "metadata": {
    "button": false,
    "new_sheet": false,
    "run_control": {
     "read_only": false
    }
   },
   "source": [
    "Then we call `plot()` on the dataframe to plot it:\n"
   ]
  },
  {
   "cell_type": "code",
   "execution_count": null,
   "id": "c31f7ddc",
   "metadata": {
    "button": false,
    "new_sheet": false,
    "run_control": {
     "read_only": false
    },
    "scrolled": true
   },
   "outputs": [],
   "source": [
    "df_cmp.plot(kind='line')"
   ]
  },
  {
   "cell_type": "markdown",
   "id": "0a28a2f5",
   "metadata": {
    "button": false,
    "new_sheet": false,
    "run_control": {
     "read_only": false
    }
   },
   "source": [
    "😔\n",
    "\n",
    "This is not the plot we wanted.\n",
    "Matplotlib plots the index of a dataframe as the x-axis and the columns as lines on the y-axis.\n",
    "\n",
    "In our first example with just the Greek data, we had a pandas Series with the years as index.\n",
    "Here, however, we have a dataframe with the 3 countries as index and the years as columns.\n",
    "\n",
    "To generate the right plot, we need to transpose the dataftame by calling the `transpose()` method to swap the row and columns."
   ]
  },
  {
   "cell_type": "code",
   "execution_count": null,
   "id": "cc93f673",
   "metadata": {
    "button": false,
    "new_sheet": false,
    "run_control": {
     "read_only": false
    }
   },
   "outputs": [],
   "source": [
    "df_cmp = df_cmp.transpose()\n",
    "df_cmp.head()"
   ]
  },
  {
   "cell_type": "markdown",
   "id": "b836ad86",
   "metadata": {
    "button": false,
    "new_sheet": false,
    "run_control": {
     "read_only": false
    }
   },
   "source": [
    "Now, if we plot out dataframe:"
   ]
  },
  {
   "cell_type": "code",
   "execution_count": null,
   "id": "fb71421b",
   "metadata": {
    "button": false,
    "new_sheet": false,
    "run_control": {
     "read_only": false
    }
   },
   "outputs": [],
   "source": [
    "df_cmp.plot(kind='line')\n",
    "\n",
    "plt.title('Inbound tourists to Greece')\n",
    "plt.ylabel('Number of tourists')\n",
    "plt.xlabel('Year')\n",
    "\n",
    "# plt.legend().set_visible(True)\n",
    "\n",
    "plt.show()"
   ]
  },
  {
   "cell_type": "markdown",
   "id": "6219e673",
   "metadata": {
    "button": false,
    "new_sheet": false,
    "run_control": {
     "read_only": false
    }
   },
   "source": [
    "**Question 1:** Compare the inbound tourists for years 2010-2020, for the 5 countries with most inbound tourists in 2020.\n",
    "\n",
    "Hint: Use the sort_values([fields], ascending=False, axis=0, inplace=True)\n"
   ]
  },
  {
   "cell_type": "code",
   "execution_count": null,
   "id": "b99e283e",
   "metadata": {
    "button": false,
    "new_sheet": false,
    "run_control": {
     "read_only": false
    }
   },
   "outputs": [],
   "source": [
    "# type your solution"
   ]
  },
  {
   "cell_type": "markdown",
   "id": "54cb8308",
   "metadata": {
    "button": false,
    "new_sheet": false,
    "run_control": {
     "read_only": false
    }
   },
   "source": [
    "## Bar Charts\n",
    "\n",
    "A bar chart or bar graph is a chart or graph that presents categorical data with rectangular bars with heights or lengths proportional to the values that they represent. A bar graph shows comparisons among discrete categories. One axis of the chart shows the specific categories being compared, and the other axis represents a measured value.\n",
    "\n",
    "The bars can be plotted vertically or horizontally.  A vertical bar chart is sometimes called a column chart. One disadvantage of them is that they lack space for text labelling for each bar.\n",
    "\n",
    "In matplotlib we can create a bar plot by setting the `kind` parameter:\n",
    "- `kind=bar` vertical bar chart or column chart\n",
    "- `kind=barh` horizontal bar chart\n"
   ]
  },
  {
   "cell_type": "markdown",
   "id": "c1e7c273",
   "metadata": {
    "button": false,
    "new_sheet": false,
    "run_control": {
     "read_only": false
    }
   },
   "source": [
    "**Vertical bar chart**\n",
    "\n",
    "Let's compare the  number of tourists in 2020 for Greece, Spain, France and Italy.\n"
   ]
  },
  {
   "cell_type": "code",
   "execution_count": null,
   "id": "e7f227d5",
   "metadata": {
    "button": false,
    "new_sheet": false,
    "run_control": {
     "read_only": false
    }
   },
   "outputs": [],
   "source": [
    "df_tourism_med = df_tourism.loc[['Greece', 'Italy', 'France', 'Spain'], '2020']\n",
    "df_tourism_med"
   ]
  },
  {
   "cell_type": "code",
   "execution_count": null,
   "id": "158302db",
   "metadata": {
    "button": false,
    "new_sheet": false,
    "run_control": {
     "read_only": false
    }
   },
   "outputs": [],
   "source": [
    "df_tourism_med.plot(kind='bar')\n",
    "\n",
    "plt.xlabel('Country')\n",
    "plt.ylabel('Number of Tourists')\n",
    "plt.title('Inbound Tourists in 2020')\n",
    "\n",
    "plt.show()"
   ]
  },
  {
   "cell_type": "markdown",
   "id": "0a76c978",
   "metadata": {
    "button": false,
    "new_sheet": false,
    "run_control": {
     "read_only": false
    }
   },
   "source": [
    "The bar plot above shows the total number of tourists for these countries in 2020."
   ]
  },
  {
   "cell_type": "markdown",
   "id": "df4ad585",
   "metadata": {},
   "source": [
    "To rotate the x-axis labels we can set the `rot` parameter:"
   ]
  },
  {
   "cell_type": "code",
   "execution_count": null,
   "id": "bc80e4d3",
   "metadata": {
    "button": false,
    "new_sheet": false,
    "run_control": {
     "read_only": false
    }
   },
   "outputs": [],
   "source": [
    "df_tourism_med.plot(kind='bar', rot=45)\n",
    "\n",
    "plt.xlabel('Country')\n",
    "plt.ylabel('Number of Tourists')\n",
    "plt.title('Inbound Tourists in 2020')\n",
    "\n",
    "plt.show()"
   ]
  },
  {
   "cell_type": "markdown",
   "id": "9626e0e6",
   "metadata": {
    "button": false,
    "new_sheet": false,
    "run_control": {
     "read_only": false
    }
   },
   "source": [
    "**Horizontal Bar Plot**"
   ]
  },
  {
   "cell_type": "code",
   "execution_count": null,
   "id": "a076d5bc",
   "metadata": {
    "button": false,
    "new_sheet": false,
    "run_control": {
     "read_only": false
    }
   },
   "outputs": [],
   "source": [
    "df_tourism_med.plot(kind='barh')\n",
    "\n",
    "plt.ylabel('Country')\n",
    "plt.xlabel('Number of Tourists')\n",
    "plt.title('Inbound Tourists in 2020')\n",
    "\n",
    "plt.show()"
   ]
  },
  {
   "cell_type": "markdown",
   "id": "1adab05b",
   "metadata": {},
   "source": [
    "### Time Series\n",
    "In the international tourism dataset, even though we have years as the xAxis, we need not handle them explicitly as datetime type. However, if our data include a date field, handling the corresponding values as datetime type is recommended as it enables time-based slicing, proper axis labeling, etc.\n"
   ]
  },
  {
   "cell_type": "markdown",
   "id": "918d299e",
   "metadata": {},
   "source": [
    "> #### Dataset: **[Stock Market Dataset](https://www.kaggle.com/datasets/borismarjanovic/price-volume-data-for-all-us-stocks-etfs)** \n",
    ">This dataset includes historical daily prices and volumes of all U.S. stocks and ETFs, containing CSV files for every stock, with values for Date, Open, High, Low, Close, Volume, etc. For this lab, we will use the historical data for the Amazon stock."
   ]
  },
  {
   "cell_type": "markdown",
   "id": "6ecbdcdc",
   "metadata": {},
   "source": [
    "Let's load the historical data for the Amazon stock. "
   ]
  },
  {
   "cell_type": "code",
   "execution_count": null,
   "id": "cb3db07b",
   "metadata": {},
   "outputs": [],
   "source": [
    "df_stock = pd.read_csv('amzn.csv')\n",
    "df_stock"
   ]
  },
  {
   "cell_type": "markdown",
   "id": "68f901d4",
   "metadata": {},
   "source": [
    "Next, we set as index the Date column:"
   ]
  },
  {
   "cell_type": "code",
   "execution_count": null,
   "id": "0e637d64",
   "metadata": {},
   "outputs": [],
   "source": [
    "df_stock.set_index('Date', inplace=True)\n",
    "df_stock"
   ]
  },
  {
   "cell_type": "markdown",
   "id": "75b11e78",
   "metadata": {},
   "source": [
    "To generate a line plot with the close prices:"
   ]
  },
  {
   "cell_type": "code",
   "execution_count": null,
   "id": "b04d2914",
   "metadata": {},
   "outputs": [],
   "source": [
    "df_stock['Close'].plot()\n",
    "plt.ylabel('Close Price')\n",
    "plt.show()"
   ]
  },
  {
   "cell_type": "markdown",
   "id": "45256f52",
   "metadata": {},
   "source": [
    "To explicitly handle the xAxis values as datetimes, we can change the type of the index to datetime:"
   ]
  },
  {
   "cell_type": "code",
   "execution_count": null,
   "id": "2926b5b8",
   "metadata": {},
   "outputs": [],
   "source": [
    "df_stock.index = pd.to_datetime(df_stock.index)\n",
    "type(df_stock.index)"
   ]
  },
  {
   "cell_type": "markdown",
   "id": "872220e2",
   "metadata": {},
   "source": [
    "Now, let's plot the time series again:"
   ]
  },
  {
   "cell_type": "code",
   "execution_count": null,
   "id": "1366496c",
   "metadata": {},
   "outputs": [],
   "source": [
    "df_stock['Close'].plot()\n",
    "plt.ylabel('Close Price')\n",
    "plt.show()"
   ]
  },
  {
   "cell_type": "markdown",
   "id": "8738781b",
   "metadata": {},
   "source": [
    "What we did above, can be done faster by calling the `.read_csv()` method with `parse_dates=True` to ensure that dates are actually parsed as dates and not as strings, and with `index_col=0`, which sets the first column of the CSV data file (Date) to be the index."
   ]
  },
  {
   "cell_type": "code",
   "execution_count": null,
   "id": "2029b735",
   "metadata": {},
   "outputs": [],
   "source": [
    "df_stock = pd.read_csv('amzn.csv', index_col=0, parse_dates=True)\n",
    "df_stock.head()"
   ]
  },
  {
   "cell_type": "markdown",
   "id": "d5f46937",
   "metadata": {
    "button": false,
    "new_sheet": false,
    "run_control": {
     "read_only": false
    }
   },
   "source": [
    "**Question 2:** Create a time series plot to visualize the daily Low and High prices in 2017."
   ]
  },
  {
   "cell_type": "code",
   "execution_count": null,
   "id": "6cc05983",
   "metadata": {
    "button": false,
    "new_sheet": false,
    "run_control": {
     "read_only": false
    }
   },
   "outputs": [],
   "source": [
    "# type your solution"
   ]
  },
  {
   "cell_type": "markdown",
   "id": "a2bfd9fe-2aa9-4c59-9b44-b4675df09d4d",
   "metadata": {},
   "source": [
    "Having explicitly set the index as datetime, we can also resample the data to a yearly frequency, calculating the average of close prices within each year:\n"
   ]
  },
  {
   "cell_type": "code",
   "execution_count": null,
   "id": "59e0d087-dcbd-42e1-af5e-e6e3d85ad7c9",
   "metadata": {},
   "outputs": [],
   "source": [
    "yearly_avg_close = df_stock['Close'].resample('Y').mean()\n",
    "\n",
    "yearly_avg_close"
   ]
  },
  {
   "cell_type": "markdown",
   "id": "217c9b9c-1f9b-4706-90cd-0e92dc13a6cc",
   "metadata": {},
   "source": [
    "Now, we can visualize these yearly averages:"
   ]
  },
  {
   "cell_type": "code",
   "execution_count": null,
   "id": "fbf0a42b-93b4-491e-9987-ce8afde87118",
   "metadata": {},
   "outputs": [],
   "source": [
    "yearly_avg_close.plot(kind='line')\n",
    "plt.ylabel('Average Yearly Close Price')\n",
    "\n",
    "\n",
    "plt.show()"
   ]
  },
  {
   "cell_type": "markdown",
   "id": "9422184e",
   "metadata": {},
   "source": [
    "A bar chart may be preferable over a line chart for visualizing the average price per year and facilitating comparisons between years due to its ability to present discrete values and enable direct comparisons:"
   ]
  },
  {
   "cell_type": "code",
   "execution_count": null,
   "id": "7b405f49",
   "metadata": {},
   "outputs": [],
   "source": [
    "yearly_avg_close.plot(kind='bar')\n",
    "plt.ylabel('Average Yearly Close Price')\n",
    "\n",
    "# Modify x-tick labels\n",
    "plt.gca().set_xticklabels([x.strftime('%Y') for x in yearly_avg_close.index])\n",
    "\n",
    "\n",
    "plt.show()"
   ]
  },
  {
   "cell_type": "markdown",
   "id": "c805b0c9",
   "metadata": {
    "button": false,
    "new_sheet": false,
    "run_control": {
     "read_only": false
    }
   },
   "source": [
    "## Area Plots\n"
   ]
  },
  {
   "cell_type": "markdown",
   "id": "72a2f46a",
   "metadata": {
    "button": false,
    "new_sheet": false,
    "run_control": {
     "read_only": false
    }
   },
   "source": [
    "The **area plot** is a fairly common chart type. Most of the time, area plots are used as stacked area charts.\n",
    "A stacked area chart is particularly useful when you want to understand both the individual trends of components and how these components contribute to the overall total.\n",
    "\n",
    "Let's create a stacked area plot for Greece and Cyprus for years 2013-2019:\n"
   ]
  },
  {
   "cell_type": "code",
   "execution_count": null,
   "id": "a551e54c",
   "metadata": {
    "button": false,
    "new_sheet": false,
    "run_control": {
     "read_only": false
    }
   },
   "outputs": [],
   "source": [
    "# transpose the dataframe\n",
    "df_gr_cy = df_tourism.loc[['Greece', 'Cyprus'], '2013':'2019'].transpose()\n",
    "\n",
    "df_gr_cy"
   ]
  },
  {
   "cell_type": "markdown",
   "id": "9c335175",
   "metadata": {
    "button": false,
    "new_sheet": false,
    "run_control": {
     "read_only": false
    }
   },
   "source": [
    "Area plots are stacked by default. To produce a stacked area plot:"
   ]
  },
  {
   "cell_type": "code",
   "execution_count": null,
   "id": "6e92807f",
   "metadata": {},
   "outputs": [],
   "source": [
    "df_gr_cy.plot(kind='area',\n",
    "             figsize=(10, 5))  # (x, y) size\n",
    "plt.title('Inbound Tourists for Greece and Cyprus')\n",
    "plt.ylabel('Number of Tourists')\n",
    "plt.xlabel('Year')\n",
    "\n",
    "plt.show()"
   ]
  },
  {
   "cell_type": "markdown",
   "id": "e8d0f66a",
   "metadata": {},
   "source": [
    "To produce an unstacked plot, we set parameter `stacked` to value `False`.  Unstacked plots are useful for comparing multiple components independently, highlighting their individual trends without the visual overlap of stacked plots."
   ]
  },
  {
   "cell_type": "code",
   "execution_count": null,
   "id": "5c7e4e09",
   "metadata": {
    "button": false,
    "new_sheet": false,
    "run_control": {
     "read_only": false
    }
   },
   "outputs": [],
   "source": [
    "df_gr_cy.plot(kind='area',\n",
    "             stacked=False,\n",
    "             figsize=(10, 5))  # (x, y) size\n",
    "\n",
    "plt.title('Inbound Tourists for Greece and Cyprus')\n",
    "plt.ylabel('Number of Tourists')\n",
    "plt.xlabel('Year')\n",
    "\n",
    "plt.show()"
   ]
  },
  {
   "cell_type": "markdown",
   "id": "3257d9c3",
   "metadata": {
    "button": false,
    "new_sheet": false,
    "run_control": {
     "read_only": false
    }
   },
   "source": [
    "The unstacked plot has a default transparency (alpha value) at 0.5. We can modify this value by passing in the `alpha` parameter.\n"
   ]
  },
  {
   "cell_type": "code",
   "execution_count": null,
   "id": "a29f3ee6",
   "metadata": {
    "button": false,
    "new_sheet": false,
    "run_control": {
     "read_only": false
    }
   },
   "outputs": [],
   "source": [
    "df_gr_cy.plot(kind='area', \n",
    "             alpha=0.2,\n",
    "             stacked=False,\n",
    "             figsize=(15, 8))\n",
    "\n",
    "plt.title('Inbound Tourists for Greece and Cyprus')\n",
    "plt.ylabel('Number of Tourists')\n",
    "plt.xlabel('Year')\n",
    "\n",
    "plt.show()"
   ]
  },
  {
   "cell_type": "markdown",
   "id": "800f3e01",
   "metadata": {
    "button": false,
    "new_sheet": false,
    "run_control": {
     "read_only": false
    }
   },
   "source": [
    "## Histograms\n",
    "\n",
    "A histogram is the most commonly used graph to show the frequency distribution of a dataset, i.e. how often each different value occurs in the dataset. A histogram partitions its x-axis into bins, with the y-value of every bin being the number of data points that correspond to it."
   ]
  },
  {
   "cell_type": "markdown",
   "id": "6ee05923",
   "metadata": {
    "button": false,
    "new_sheet": false,
    "run_control": {
     "read_only": false
    }
   },
   "source": [
    "We will use a subset of TripAdvisor Restaurants dataset. Specifically, we will use a subset that contains restaurants in Greece.\n",
    "\n",
    "Let's import the data:"
   ]
  },
  {
   "cell_type": "code",
   "execution_count": null,
   "id": "82cddebc",
   "metadata": {},
   "outputs": [],
   "source": [
    "df_restaurants = pd.read_csv('tripadvisor_restaurants_greece.csv')\n",
    "df_restaurants"
   ]
  },
  {
   "cell_type": "markdown",
   "id": "322dc97f",
   "metadata": {},
   "source": [
    "Let's create a histogram for the average restaurant rating. We can easily graph this distribution by passing `kind=hist` to `plot()`."
   ]
  },
  {
   "cell_type": "code",
   "execution_count": null,
   "id": "7c4a741f",
   "metadata": {
    "button": false,
    "new_sheet": false,
    "run_control": {
     "read_only": false
    }
   },
   "outputs": [],
   "source": [
    "df_restaurants['avg_rating'].plot(kind='hist', figsize=(10, 5))\n",
    "\n",
    "plt.title('Histogram of Average Rating')\n",
    "plt.ylabel('Number of Restaurants')\n",
    "plt.xlabel('Average Rating')\n",
    "\n",
    "plt.show()"
   ]
  },
  {
   "cell_type": "markdown",
   "id": "c7943d69",
   "metadata": {
    "button": false,
    "new_sheet": false,
    "run_control": {
     "read_only": false
    }
   },
   "source": [
    "The x-axis of this histogram denotes the average rating intervals, while the y-axis represents the count of restaurants falling within each bin."
   ]
  },
  {
   "cell_type": "markdown",
   "id": "25dbd53e",
   "metadata": {
    "button": false,
    "new_sheet": false,
    "run_control": {
     "read_only": false
    }
   },
   "source": [
    "Using **Numpy**'s `histogram` method, we can get the bin ranges and corresponding counts:\n"
   ]
  },
  {
   "cell_type": "code",
   "execution_count": null,
   "id": "f0f07ade",
   "metadata": {
    "button": false,
    "new_sheet": false,
    "run_control": {
     "read_only": false
    },
    "scrolled": true
   },
   "outputs": [],
   "source": [
    "counts, bin_ranges = np.histogram(df_restaurants['avg_rating'].dropna())\n",
    "\n",
    "print(counts) # frequency count\n",
    "print(bin_ranges) # bin ranges, default = 10 bins"
   ]
  },
  {
   "cell_type": "markdown",
   "id": "ed6a35fd",
   "metadata": {
    "button": false,
    "new_sheet": false,
    "run_control": {
     "read_only": false
    }
   },
   "source": [
    "By default, the `histogram` method creates 10 bins.\n"
   ]
  },
  {
   "cell_type": "markdown",
   "id": "c811b205",
   "metadata": {},
   "source": [
    "Using the bin_ranges we just calculated, we can make the x-axis labels match the bin size:\n"
   ]
  },
  {
   "cell_type": "code",
   "execution_count": null,
   "id": "3b8a3702",
   "metadata": {
    "button": false,
    "new_sheet": false,
    "run_control": {
     "read_only": false
    }
   },
   "outputs": [],
   "source": [
    "df_restaurants['avg_rating'].plot(kind='hist', figsize=(8, 5), xticks=bin_ranges)\n",
    "\n",
    "plt.title('Histogram of Average Rating')\n",
    "plt.ylabel('Number of Restaurants')\n",
    "plt.xlabel('Average Rating')\n",
    "plt.show()"
   ]
  },
  {
   "cell_type": "markdown",
   "id": "5eb697dc",
   "metadata": {
    "button": false,
    "new_sheet": false,
    "run_control": {
     "read_only": false
    }
   },
   "source": [
    "## Pie Charts\n",
    "\n",
    "A pie chart is a circular statistical graphic, which is divided into slices to illustrate numerical proportion. In a pie chart, the arc length of each slice (and consequently its central angle and area) is proportional to the quantity it represents. We can create pie charts in Matplotlib by passing in the `kind=pie` keyword. This visualization is particularly useful for showing the relative contributions of different categories to a whole.\n",
    "\n",
    "We will use a subset of TripAdvisor Restaurants dataset for creating pie charts.\n",
    "\n",
    "\n",
    "Let's import the data:"
   ]
  },
  {
   "cell_type": "code",
   "execution_count": null,
   "id": "8bfa89b3",
   "metadata": {},
   "outputs": [],
   "source": [
    "df_restaurants = pd.read_csv('tripadvisor_restaurants_greece.csv')\n",
    "df_restaurants"
   ]
  },
  {
   "cell_type": "markdown",
   "id": "e56ba80a",
   "metadata": {},
   "source": [
    "Let's focus on the 'region' column. This takes the following values, corresponding to regions in Greece:"
   ]
  },
  {
   "cell_type": "code",
   "execution_count": null,
   "id": "85abb6de",
   "metadata": {},
   "outputs": [],
   "source": [
    "df_restaurants.region.unique()"
   ]
  },
  {
   "cell_type": "markdown",
   "id": "b3a9f969",
   "metadata": {
    "button": false,
    "new_sheet": false,
    "run_control": {
     "read_only": false
    }
   },
   "source": [
    "To create a pie chart to visualize the percentage of restaurants grouped by region, we need to use the *pandas* `groupby` method to summarize the restaurant data by `region`. The `groupby` method first splits the data into groups based on the values of some fields, and then applies an aggregate function to each group, before combining the results."
   ]
  },
  {
   "cell_type": "code",
   "execution_count": null,
   "id": "e040ed95",
   "metadata": {
    "button": false,
    "collapsed": false,
    "jupyter": {
     "outputs_hidden": false
    },
    "new_sheet": false,
    "run_control": {
     "read_only": false
    }
   },
   "outputs": [],
   "source": [
    "# group restaurants by region and get the size of every group\n",
    "region_counts = df_restaurants.groupby('region').size()\n",
    "\n",
    "region_counts"
   ]
  },
  {
   "cell_type": "markdown",
   "id": "12a00fd7",
   "metadata": {
    "button": false,
    "new_sheet": false,
    "run_control": {
     "read_only": false
    }
   },
   "source": [
    "Next, to generate the pie chart, we set `kind = 'pie'`."
   ]
  },
  {
   "cell_type": "code",
   "execution_count": null,
   "id": "48c69c26",
   "metadata": {
    "button": false,
    "collapsed": false,
    "jupyter": {
     "outputs_hidden": false
    },
    "new_sheet": false,
    "run_control": {
     "read_only": false
    }
   },
   "outputs": [],
   "source": [
    "# autopct create %, start angle represent starting point\n",
    "region_counts.plot(kind='pie',\n",
    "                            figsize=(5, 6),\n",
    "                            autopct='%1.1f%%', # label the wedges in percentages \n",
    "                            startangle=90,     # start angle 90°\n",
    "                            )\n",
    "\n",
    "plt.title('Number of restaurants by Region')\n",
    "plt.axis('equal') # Sets the pie chart aspect ratio to look like a circle.\n",
    "plt.ylabel(\"\")\n",
    "plt.show()\n"
   ]
  },
  {
   "cell_type": "markdown",
   "id": "730b245c",
   "metadata": {
    "button": false,
    "new_sheet": false,
    "run_control": {
     "read_only": false
    }
   },
   "source": [
    "The pie chart is not very clear, with some text overlapping. We can remove the labels and add a legend instead. We can also move the values of every segment outside it. Also to highlight some segemnts we can make them stand out using the `explode` parameter.\n"
   ]
  },
  {
   "cell_type": "code",
   "execution_count": null,
   "id": "6f8b853a",
   "metadata": {
    "button": false,
    "collapsed": false,
    "jupyter": {
     "outputs_hidden": false
    },
    "new_sheet": false,
    "run_control": {
     "read_only": false
    }
   },
   "outputs": [],
   "source": [
    "explode_list = [0, 0, 0, 0, 0.1, 0, 0, 0, 0, 0, 0.1, 0, 0.1, 0.2] # ratio for each region with which to offset each pie segment.\n",
    "\n",
    "region_counts.plot(kind='pie',\n",
    "                            figsize=(15, 6),\n",
    "                            autopct='%1.1f%%', \n",
    "                            startangle=90,    \n",
    "                            shadow=False,       \n",
    "                            labels=None,         # hide labels\n",
    "                            pctdistance=1.1,    # the ratio between the center of each pie slice and the start of its text\n",
    "                            explode=explode_list # 'explode' lowest 4 countries\n",
    "                            )\n",
    "\n",
    "plt.title('Number of restaurants by Region', y=1.1, fontsize= 14)\n",
    "\n",
    "plt.axis('equal') \n",
    "\n",
    "plt.ylabel(\"\")\n",
    "\n",
    "# add legend\n",
    "plt.legend(labels=region_counts.index, loc='lower right') \n",
    "\n",
    "plt.show()"
   ]
  },
  {
   "cell_type": "markdown",
   "id": "7ef16d7b",
   "metadata": {
    "button": false,
    "new_sheet": false,
    "run_control": {
     "read_only": false
    }
   },
   "source": [
    "**Question 3:** Create a pie plot to visualize the percentage of restaurants per province in Crete.\n",
    "\n",
    "*Hint: Filter first the restaurants for Crete (region = Crete) and then count by province.*\n",
    "\n"
   ]
  },
  {
   "cell_type": "code",
   "execution_count": null,
   "id": "f648e7db",
   "metadata": {},
   "outputs": [],
   "source": [
    "# type your solution"
   ]
  },
  {
   "cell_type": "markdown",
   "id": "ced6e2d1",
   "metadata": {
    "button": false,
    "new_sheet": false,
    "run_control": {
     "read_only": false
    }
   },
   "source": [
    "## Scatter Plots\n",
    "\n",
    "A scatter plot is a type of plot used to compare variables within a dataset. The data are displayed as a collection of points, with the value of one variable determining the position on the horizontal axis and the value of another variable determining the position on the vertical axis. This plot is particularly useful for visualizing and identifying relationships, trends, and potential correlations between variables.\n",
    "\n",
    "Let's create a scatter plot to visualize the relationship between the open price of the Amazon stock and its daily volume.\n",
    "For this, we need to set `kind='scatter'` and set the `x` and `y` parameters to specify the columns that go on the x and y-axis, respectively.\n",
    "\n"
   ]
  },
  {
   "cell_type": "code",
   "execution_count": null,
   "id": "c5d36333",
   "metadata": {
    "button": false,
    "collapsed": false,
    "jupyter": {
     "outputs_hidden": false
    },
    "new_sheet": false,
    "run_control": {
     "read_only": false
    }
   },
   "outputs": [],
   "source": [
    "df_stock.plot(kind='scatter', x='Open', y='Volume')\n",
    "\n",
    "plt.title('Open Price vs Volume')\n",
    "plt.xlabel('Open Price')\n",
    "plt.ylabel('Volume')\n",
    "\n",
    "plt.show()"
   ]
  },
  {
   "cell_type": "markdown",
   "id": "7b188f38",
   "metadata": {
    "button": false,
    "new_sheet": false,
    "run_control": {
     "read_only": false
    }
   },
   "source": [
    "Every point on the scatterplot corresponds to a single day. Note that some points overlap.\n",
    "\n",
    "From the plot, we can easily observe that, in general, when the Open price is lower there is a higher volume. We can mathematically model this relationship using a regression line (line of best fit).\n"
   ]
  },
  {
   "cell_type": "markdown",
   "id": "d90c6763",
   "metadata": {
    "button": false,
    "new_sheet": false,
    "run_control": {
     "read_only": false
    }
   },
   "source": [
    "For this, we'll use **Numpy**'s `polyfit()` method by passing in the following:"
   ]
  },
  {
   "cell_type": "code",
   "execution_count": null,
   "id": "9785a174",
   "metadata": {
    "button": false,
    "collapsed": false,
    "jupyter": {
     "outputs_hidden": false
    },
    "new_sheet": false,
    "run_control": {
     "read_only": false
    }
   },
   "outputs": [],
   "source": [
    "from numpy.polynomial import Polynomial\n",
    "\n",
    "x = df_stock['Open']      \n",
    "y = df_stock['Volume']\n",
    "\n",
    "# Degree of polynomial: 1 = linear, 2 = quadratic, ...\n",
    "polynomial = Polynomial.fit(x, y, deg=1)\n",
    "\n",
    "# The fitted polynomial\n",
    "print(polynomial)"
   ]
  },
  {
   "cell_type": "markdown",
   "id": "2bcb8209",
   "metadata": {
    "button": false,
    "new_sheet": false,
    "run_control": {
     "read_only": false
    }
   },
   "source": [
    "To plot the regression line on the scatter plot:\n"
   ]
  },
  {
   "cell_type": "code",
   "execution_count": null,
   "id": "1dc9d081",
   "metadata": {
    "button": false,
    "collapsed": false,
    "jupyter": {
     "outputs_hidden": false
    },
    "new_sheet": false,
    "run_control": {
     "read_only": false
    }
   },
   "outputs": [],
   "source": [
    "df_stock.plot(kind='scatter', x='Open', y='Volume')\n",
    "\n",
    "plt.title('Open Price vs Volume')\n",
    "plt.xlabel('Open Price')\n",
    "plt.ylabel('Volume')\n",
    "\n",
    "# plot regression line\n",
    "plt.plot(x, polynomial(x), color='yellow')\n",
    "\n",
    "\n",
    "plt.show()"
   ]
  },
  {
   "cell_type": "markdown",
   "id": "8a5cd730",
   "metadata": {
    "button": false,
    "new_sheet": false,
    "run_control": {
     "read_only": false
    }
   },
   "source": [
    "## Box Plots\n",
    "\n",
    "A box plot visually summarizes the distribution of numerical data by displaying the quartiles, median, and any outliers. It provides a concise representation of the data’s spread, central tendency, and variability. This type of plot is particularly useful for identifying outliers and comparing distributions across different groups.\n",
    "\n",
    "The chart is a standardized way of displaying the distribution of data based on a five-number summary:\n",
    "\n",
    "**Minimum Value:** The end of the lower whisker represents the smallest data point, excluding any outliers.\n",
    "\n",
    "**First Quartile (Q1):** The lower edge of the box indicates the 25th percentile, meaning 25% of data points fall below this value.\n",
    "\n",
    "**Median (Second Quartile, Q2):** The line within the box marks the median of the dataset.\n",
    "\n",
    "**Third Quartile (Q3):** The upper edge of the box shows the 75th percentile, with 75% of data points lying below this value.\n",
    "\n",
    "**Maximum Value:** The end of the upper whisker indicates the largest data point, excluding outliers."
   ]
  },
  {
   "attachments": {
    "image-2.png": {
     "image/png": "[encoded data removed]"
    }
   },
   "cell_type": "markdown",
   "id": "e2f7de5e",
   "metadata": {
    "button": false,
    "new_sheet": false,
    "run_control": {
     "read_only": false
    }
   },
   "source": [
    "![image-2.png](attachment:image-2.png)\n"
   ]
  },
  {
   "cell_type": "markdown",
   "id": "036cd004",
   "metadata": {
    "button": false,
    "new_sheet": false,
    "run_control": {
     "read_only": false
    }
   },
   "source": [
    "We can make a `boxplot` setting `kind=box` in the `plot`. \n",
    "\n",
    "Let's generate a box plot for inbound tourism in Greece."
   ]
  },
  {
   "cell_type": "code",
   "execution_count": null,
   "id": "82d47d94",
   "metadata": {
    "button": false,
    "collapsed": false,
    "jupyter": {
     "outputs_hidden": false
    },
    "new_sheet": false,
    "run_control": {
     "read_only": false
    }
   },
   "outputs": [],
   "source": [
    "greece = df_tourism.loc['Greece']\n",
    "\n",
    "greece"
   ]
  },
  {
   "cell_type": "markdown",
   "id": "42f8b582",
   "metadata": {
    "button": false,
    "new_sheet": false,
    "run_control": {
     "read_only": false
    }
   },
   "source": [
    "Plot by passing in `kind='box'`.\n"
   ]
  },
  {
   "cell_type": "code",
   "execution_count": null,
   "id": "51caa8a1",
   "metadata": {
    "button": false,
    "collapsed": false,
    "jupyter": {
     "outputs_hidden": false
    },
    "new_sheet": false,
    "run_control": {
     "read_only": false
    }
   },
   "outputs": [],
   "source": [
    "greece.plot(kind='box', figsize=(10, 7))\n",
    "\n",
    "plt.title('Box plot of Inbound tourists')\n",
    "plt.ylabel('Number of Inbound Tourists')\n",
    "\n",
    "plt.show()"
   ]
  },
  {
   "cell_type": "markdown",
   "id": "2fbca206",
   "metadata": {
    "button": false,
    "new_sheet": false,
    "run_control": {
     "read_only": false
    }
   },
   "source": [
    "Using the `describe()` method, we can get the actual numbers:"
   ]
  },
  {
   "cell_type": "code",
   "execution_count": null,
   "id": "23a7b500",
   "metadata": {
    "button": false,
    "collapsed": false,
    "jupyter": {
     "outputs_hidden": false
    },
    "new_sheet": false,
    "run_control": {
     "read_only": false
    }
   },
   "outputs": [],
   "source": [
    "greece.describe()"
   ]
  },
  {
   "cell_type": "markdown",
   "id": "abe3a2ae",
   "metadata": {
    "button": false,
    "new_sheet": false,
    "run_control": {
     "read_only": false
    }
   },
   "source": [
    "**Question 4:** Create a box plot to compare the distribution of inbound tourists between Greece, Italy, France and Spain.\n"
   ]
  },
  {
   "cell_type": "code",
   "execution_count": null,
   "id": "b44c27ef",
   "metadata": {
    "button": false,
    "collapsed": false,
    "jupyter": {
     "outputs_hidden": false
    },
    "new_sheet": false,
    "run_control": {
     "read_only": false
    }
   },
   "outputs": [],
   "source": [
    "# type your solution"
   ]
  },
  {
   "cell_type": "markdown",
   "id": "e594f8bd",
   "metadata": {
    "button": false,
    "new_sheet": false,
    "run_control": {
     "read_only": false
    }
   },
   "source": [
    "## Matplotlib Subplots\n",
    "\n",
    "In Matplotlib, we can create multiple plots within the same figure using the `plt.subplots(nrows, ncols)` function, which returns a tuple containing a `figure` and an array of `axes`. The `figure` represents the entire plotting area with `nrows` rows and `ncols` columns of individual plots. To plot data on a specific subplot, we pass the appropriate `axes` object to the `ax` parameter of the `df.plot()` method, using `axes[index]` to reference the subplot location. Creating multiple plots in the same figure allows for side-by-side comparisons of different datasets or variables and for analyzing various plot types of the same data within a single visual context."
   ]
  },
  {
   "cell_type": "code",
   "execution_count": null,
   "id": "9f74739c",
   "metadata": {
    "button": false,
    "collapsed": false,
    "jupyter": {
     "outputs_hidden": false
    },
    "new_sheet": false,
    "run_control": {
     "read_only": false
    }
   },
   "outputs": [],
   "source": [
    "figure, axes = plt.subplots(1, 2)\n",
    "\n",
    "\n",
    "\n",
    "figure.suptitle(\"Tourism in Greece\", fontsize=18)\n",
    "\n",
    "# Box plot\n",
    "greece.plot(kind='box', vert=False, figsize=(14, 5), ax=axes[0])\n",
    "axes[0].set_title('Box plot of Inbound tourists in Greece', fontsize=14)\n",
    "axes[0].set_xlabel('Number of Inbound Tourists')\n",
    "\n",
    "\n",
    "# Line plot\n",
    "greece.plot(kind='line', figsize=(14, 5), ax=axes[1]) # add to subplot 2\n",
    "axes[1].set_title ('Inbound Tourists in Greece per year', fontsize=14)\n",
    "axes[1].set_ylabel('Number of Inbound Tourists')\n",
    "axes[1].set_xlabel('Years')"
   ]
  },
  {
   "cell_type": "markdown",
   "id": "1ae7262f",
   "metadata": {
    "button": false,
    "new_sheet": false,
    "run_control": {
     "read_only": false
    }
   },
   "source": [
    "**Question 5:** Create a figure with two subplots:\n",
    "\n",
    "1. A bar chart to visualize the total inbound tourists for periods `2006-2010`, `2011-2015`, `2016-2020` for France, Italy and Spain.\n",
    "2. A box plot to visualize the distribution for these countries for years `2006 - 2020`."
   ]
  },
  {
   "cell_type": "code",
   "execution_count": null,
   "id": "017dde95",
   "metadata": {
    "button": false,
    "collapsed": false,
    "jupyter": {
     "outputs_hidden": false
    },
    "new_sheet": false,
    "run_control": {
     "read_only": false
    }
   },
   "outputs": [],
   "source": [
    "# type your solution"
   ]
  },
  {
   "cell_type": "markdown",
   "id": "49596b95",
   "metadata": {},
   "source": [
    "**Question 6:** Generate a bar chart to visualize the top 20 cuisines in Athens:"
   ]
  },
  {
   "cell_type": "code",
   "execution_count": null,
   "id": "8a9ab26c",
   "metadata": {},
   "outputs": [],
   "source": [
    "# type your solution"
   ]
  },
  {
   "cell_type": "code",
   "execution_count": null,
   "id": "a1d8b008-2a22-48d6-90e5-f2fa614f2282",
   "metadata": {},
   "outputs": [],
   "source": []
  }
 ],
 "metadata": {
  "kernelspec": {
   "display_name": "Python 3 (ipykernel)",
   "language": "python",
   "name": "python3"
  },
  "language_info": {
   "codemirror_mode": {
    "name": "ipython",
    "version": 3
   },
   "file_extension": ".py",
   "mimetype": "text/x-python",
   "name": "python",
   "nbconvert_exporter": "python",
   "pygments_lexer": "ipython3",
   "version": "3.13.2"
  }
 },
 "nbformat": 4,
 "nbformat_minor": 5
}
