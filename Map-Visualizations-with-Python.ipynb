{
 "cells": [
  {
   "cell_type": "markdown",
   "metadata": {
    "button": false,
    "new_sheet": false,
    "run_control": {
     "read_only": false
    }
   },
   "source": [
    "# Map Visualizations with Python\n"
   ]
  },
  {
   "cell_type": "markdown",
   "metadata": {},
   "source": [
    "> ### Datasets:\n",
    ">\n",
    ">**[TripAdvisor European restaurants](https://www.kaggle.com/datasets/stefanoleone992/tripadvisor-european-restaurants)**\n",
    ">\n",
    ">This dataset includes restaurants with attributes such as location data, average rating, number of reviews, open hours, cuisine types, awards, etc. The dataset combines the restaurants from the main European countries. In the context of this lab, we will work with a subset of the dataset that includes restaurants in Greece.\n",
    ">    \n",
    ">\n",
    ">**[International tourism, number of arrivals](https://data.worldbank.org/indicator/ST.INT.ARVL)**\n",
    ">\n",
    ">This dataset contains the yearly number of inbound tourists for every country. The data on inbound tourists refer to the number of arrivals, not to the number of people traveling. Thus a person who makes several trips to a country during a given period is counted each time as a new arrival.\n"
   ]
  },
  {
   "cell_type": "markdown",
   "metadata": {
    "button": false,
    "new_sheet": false,
    "run_control": {
     "read_only": false
    }
   },
   "source": [
    "Folium is a Python library designed for creating a variety of interactive maps using the Leaflet.js library. It integrates Python's data manipulation capabilities with Leaflet's efficient mapping functions, allowing users to process data in Python before rendering it on a Leaflet map with Folium.\n",
    "\n",
    "The library comes with several built-in tilesets such as OpenStreetMap. Folium supports both GeoJSON and TopoJSON overlays, enabling the creation of  choropleth maps.\n",
    "\n"
   ]
  },
  {
   "cell_type": "markdown",
   "metadata": {
    "button": false,
    "new_sheet": false,
    "run_control": {
     "read_only": false
    }
   },
   "source": [
    "We need to install Folium first, in order to import it.\n"
   ]
  },
  {
   "cell_type": "code",
   "execution_count": null,
   "metadata": {
    "button": false,
    "new_sheet": false,
    "run_control": {
     "read_only": false
    }
   },
   "outputs": [],
   "source": [
    "!pip3 install folium==0.16.0\n",
    "import folium"
   ]
  },
  {
   "cell_type": "markdown",
   "metadata": {
    "button": false,
    "new_sheet": false,
    "run_control": {
     "read_only": false
    }
   },
   "source": [
    "Import pandas and numpy:\n"
   ]
  },
  {
   "cell_type": "code",
   "execution_count": null,
   "metadata": {
    "button": false,
    "new_sheet": false,
    "run_control": {
     "read_only": false
    }
   },
   "outputs": [],
   "source": [
    "import numpy as np\n",
    "import pandas as pd"
   ]
  },
  {
   "cell_type": "markdown",
   "metadata": {
    "button": false,
    "new_sheet": false,
    "run_control": {
     "read_only": false
    }
   },
   "source": [
    "To generate a map, you create a **Folium** *Map* object, and then you display it.\n"
   ]
  },
  {
   "cell_type": "code",
   "execution_count": null,
   "metadata": {
    "button": false,
    "new_sheet": false,
    "run_control": {
     "read_only": false
    }
   },
   "outputs": [],
   "source": [
    "map = folium.Map()\n",
    "map"
   ]
  },
  {
   "cell_type": "markdown",
   "metadata": {
    "button": false,
    "new_sheet": false,
    "run_control": {
     "read_only": false
    }
   },
   "source": [
    "Folium maps are interactive, allowing you to zoom and pan the map. When creating a map, you can specify its initial center and zoom level. To specify its center, you use its *Latitude* and *Longitude*, while to specify the zoom level you define an integer value  from 0 up to 18. Higher values result in a more zoomed in view."
   ]
  },
  {
   "cell_type": "code",
   "execution_count": null,
   "metadata": {
    "button": false,
    "new_sheet": false,
    "run_control": {
     "read_only": false
    }
   },
   "outputs": [],
   "source": [
    "# Athens latitude and longitude values\n",
    "athens_coords = [37.983810, 23.727539]\n",
    "\n",
    "map = folium.Map(location=athens_coords, zoom_start=5)\n",
    "\n",
    "map"
   ]
  },
  {
   "cell_type": "markdown",
   "metadata": {
    "button": false,
    "new_sheet": false,
    "run_control": {
     "read_only": false
    }
   },
   "source": [
    "Let's create the map again with a higher zoom level.\n"
   ]
  },
  {
   "cell_type": "code",
   "execution_count": null,
   "metadata": {
    "button": false,
    "new_sheet": false,
    "run_control": {
     "read_only": false
    }
   },
   "outputs": [],
   "source": [
    "map = folium.Map(location=athens_coords, zoom_start=10)\n",
    "\n",
    "map"
   ]
  },
  {
   "cell_type": "markdown",
   "metadata": {
    "button": false,
    "new_sheet": false,
    "run_control": {
     "read_only": false
    }
   },
   "source": [
    "As you can see, the higher the zoom level the more the map is zoomed into the given center.\n"
   ]
  },
  {
   "cell_type": "markdown",
   "metadata": {
    "button": false,
    "new_sheet": false,
    "run_control": {
     "read_only": false
    }
   },
   "source": [
    "## Maps with Markers <a id=\"6\"></a>\n"
   ]
  },
  {
   "cell_type": "markdown",
   "metadata": {
    "button": false,
    "new_sheet": false,
    "run_control": {
     "read_only": false
    }
   },
   "source": [
    "Read the CSV file with the restaurants in Greece, load it into a dataframe, and keep only the restaurants in Athens:"
   ]
  },
  {
   "cell_type": "code",
   "execution_count": null,
   "metadata": {
    "button": false,
    "new_sheet": false,
    "run_control": {
     "read_only": false
    }
   },
   "outputs": [],
   "source": [
    "df_restaurants = pd.read_csv('tripadvisor_restaurants_greece.csv')\n",
    "\n",
    "df_restaurants = df_restaurants[df_restaurants['city'] == 'Athens']\n",
    "\n",
    "df_restaurants"
   ]
  },
  {
   "cell_type": "markdown",
   "metadata": {
    "button": false,
    "new_sheet": false,
    "run_control": {
     "read_only": false
    }
   },
   "source": [
    "Check the columns of the dataset:"
   ]
  },
  {
   "cell_type": "code",
   "execution_count": null,
   "metadata": {},
   "outputs": [],
   "source": [
    "df_restaurants.columns"
   ]
  },
  {
   "cell_type": "markdown",
   "metadata": {
    "button": false,
    "new_sheet": false,
    "run_control": {
     "read_only": false
    }
   },
   "source": [
    "And find how many rows and columns it contains:\n"
   ]
  },
  {
   "cell_type": "code",
   "execution_count": null,
   "metadata": {
    "button": false,
    "new_sheet": false,
    "run_control": {
     "read_only": false
    }
   },
   "outputs": [],
   "source": [
    "df_restaurants.shape"
   ]
  },
  {
   "cell_type": "markdown",
   "metadata": {
    "button": false,
    "new_sheet": false,
    "run_control": {
     "read_only": false
    }
   },
   "source": [
    "Now, lets create a map centered around Athens with a zoom level of 11.\n"
   ]
  },
  {
   "cell_type": "code",
   "execution_count": null,
   "metadata": {
    "button": false,
    "new_sheet": false,
    "run_control": {
     "read_only": false
    }
   },
   "outputs": [],
   "source": [
    "athens_map = folium.Map(location=athens_coords, zoom_start=11)\n",
    "\n",
    "athens_map"
   ]
  },
  {
   "cell_type": "markdown",
   "metadata": {},
   "source": [
    "To be able to visualize the restaurants on the map, we need to remove any rows that do not contain latitude and longitude values:"
   ]
  },
  {
   "cell_type": "code",
   "execution_count": null,
   "metadata": {},
   "outputs": [],
   "source": [
    "df_restaurants.dropna(subset=['latitude', 'longitude'], axis=0, inplace=True)\n",
    "\n",
    "df_restaurants.shape"
   ]
  },
  {
   "cell_type": "markdown",
   "metadata": {
    "button": false,
    "new_sheet": false,
    "run_control": {
     "read_only": false
    }
   },
   "source": [
    "To show these restaurants on the map, we create a *FeatureGroup* and add it to the `athens_map`. We can also add some pop-up text that would get displayed when you hover over a marker."
   ]
  },
  {
   "cell_type": "code",
   "execution_count": null,
   "metadata": {
    "button": false,
    "new_sheet": false,
    "run_control": {
     "read_only": false
    }
   },
   "outputs": [],
   "source": [
    "# create a feature group for the restaurants\n",
    "restaurants = folium.map.FeatureGroup()\n",
    "\n",
    "# add pop-up text to each marker on the map\n",
    "latitudes = list(df_restaurants.latitude)\n",
    "longitudes = list(df_restaurants.longitude)\n",
    "labels = list(df_restaurants.cuisines.fillna('N/A'))\n",
    "\n",
    "# add each restaurant to the restaurants feature group\n",
    "for lat, lng, label in zip(latitudes, longitudes, labels):\n",
    "    folium.Marker([lat, lng], popup=label).add_to(restaurants)    \n",
    "    \n",
    "# add restaurants to the map\n",
    "athens_map.add_child(restaurants)"
   ]
  },
  {
   "cell_type": "markdown",
   "metadata": {
    "button": false,
    "new_sheet": false,
    "run_control": {
     "read_only": false
    }
   },
   "source": [
    "As you can see, the map is overly congested. Overplotting can be a serious problem, which affects the responsiveness of the map, and also complicates its visual analysis.\n",
    "To solve this problem, we can group the markers into different clusters. Each cluster is then represented by the number of restaurants in this area.\n",
    "\n",
    "To implement this, we start off by instantiating a *MarkerCluster* object and adding all the data points in the dataframe to this object."
   ]
  },
  {
   "cell_type": "code",
   "execution_count": null,
   "metadata": {
    "button": false,
    "new_sheet": false,
    "run_control": {
     "read_only": false
    }
   },
   "outputs": [],
   "source": [
    "from folium import plugins\n",
    "\n",
    "# Create a clean copy of the Athens map\n",
    "athens_map = folium.Map(location = athens_coords, zoom_start = 12)\n",
    "\n",
    "# create a marker cluster object for the restaurants\n",
    "restaurants = plugins.MarkerCluster().add_to(athens_map)\n",
    "\n",
    "# add each restaurant to the restaurants marker cluster\n",
    "for lat, lng in zip(df_restaurants.latitude, df_restaurants.longitude):\n",
    "    folium.Marker(\n",
    "        location=[lat, lng],\n",
    "        icon=None,\n",
    "    ).add_to(restaurants)\n",
    "\n",
    "# display the map\n",
    "athens_map"
   ]
  },
  {
   "cell_type": "markdown",
   "metadata": {
    "button": false,
    "new_sheet": false,
    "run_control": {
     "read_only": false
    }
   },
   "source": [
    "Now the map is not congested and you can clearly see the distribution of restaurants in Athens. Also, the map is much more responsive.\n",
    "When you zoom out, markers are clustered together, while zooming in, a cluster splits into several subclusters or single markers."
   ]
  },
  {
   "cell_type": "markdown",
   "metadata": {
    "button": false,
    "new_sheet": false,
    "run_control": {
     "read_only": false
    }
   },
   "source": [
    "## Choropleth Maps <a id=\"8\"></a>\n",
    "\n",
    "A `Choropleth` map is a map in which areas are colored according to the specific variable visualized on the map. With choropleth maps, you can easily visualize how a metric varies over a geographic area."
   ]
  },
  {
   "cell_type": "markdown",
   "metadata": {
    "button": false,
    "new_sheet": false,
    "run_control": {
     "read_only": false
    }
   },
   "source": [
    "Let's read the international tourism data and create a `Choropleth` to compare yearly tourist arrivals between different countries."
   ]
  },
  {
   "cell_type": "markdown",
   "metadata": {
    "button": false,
    "new_sheet": false,
    "run_control": {
     "read_only": false
    }
   },
   "source": [
    "Read the  the International tourism into a *pandas* dataframe.\n"
   ]
  },
  {
   "cell_type": "code",
   "execution_count": null,
   "metadata": {
    "button": false,
    "new_sheet": false,
    "run_control": {
     "read_only": false
    }
   },
   "outputs": [],
   "source": [
    "df_tourism = pd.read_csv('international_tourism.csv')\n",
    "\n",
    "df_tourism.head()"
   ]
  },
  {
   "cell_type": "markdown",
   "metadata": {
    "button": false,
    "new_sheet": false,
    "run_control": {
     "read_only": false
    }
   },
   "source": [
    "To create a `Choropleth` map, we need a GeoJSON file that defines the areas/boundaries of the geographical entities that we are interested in. Since our dataset contains data from all countries in the world, we need a GeoJSON file for all countries. You can find file **world.geo.json** in the zip file you downloaded for this lab."
   ]
  },
  {
   "cell_type": "code",
   "execution_count": null,
   "metadata": {
    "button": false,
    "new_sheet": false,
    "run_control": {
     "read_only": false
    }
   },
   "outputs": [],
   "source": [
    "world_geo = 'world.geo.json'"
   ]
  },
  {
   "cell_type": "markdown",
   "metadata": {
    "button": false,
    "new_sheet": false,
    "run_control": {
     "read_only": false
    }
   },
   "source": [
    "Then we create a `Choropleth` map, as follows:"
   ]
  },
  {
   "cell_type": "code",
   "execution_count": null,
   "metadata": {
    "button": false,
    "new_sheet": false,
    "run_control": {
     "read_only": false
    }
   },
   "outputs": [],
   "source": [
    "# Set up Choropleth map for inbound tourists in 2020\n",
    "world_map = folium.Map(location=[0, 0], zoom_start=2)\n",
    "\n",
    "folium.Choropleth(\n",
    "    geo_data=world_geo,\n",
    "    data=df_tourism,\n",
    "    # specifies the columns in the DataFrame to be used\n",
    "    columns=['Country Code', '2020'],\n",
    "    # specifies the key or property in the GeoJSON feature properties that matches the country codes.\n",
    "    key_on='feature.properties.iso_a3',\n",
    "    # determines the number of bins or color categories for the Choropleth map\n",
    "    bins=6, \n",
    "    fill_color='Greens', # See https://colorbrewer2.org/ for more color schemes\n",
    "    fill_opacity=1,\n",
    "    line_opacity=0.2,\n",
    "    legend_name='Number of Inbound Tourists in 2020',\n",
    "    line_color=\"#0000\",\n",
    "    show=True,\n",
    "    overlay=True,\n",
    "    nan_fill_color = \"White\"\n",
    ").add_to(world_map)\n",
    "\n",
    "# display map\n",
    "world_map"
   ]
  },
  {
   "cell_type": "markdown",
   "metadata": {
    "button": false,
    "new_sheet": false,
    "run_control": {
     "read_only": false
    }
   },
   "source": [
    "As you can see in the map legend, the darker the color of a country, the higher the number of inbound tourists for 2020.\n"
   ]
  },
  {
   "cell_type": "markdown",
   "metadata": {
    "button": false,
    "new_sheet": false,
    "run_control": {
     "read_only": false
    }
   },
   "source": [
    "**Question**: Generate a choropleth map to visualize the average yearly tourism for years 2010-2020."
   ]
  },
  {
   "cell_type": "code",
   "execution_count": null,
   "metadata": {
    "button": false,
    "new_sheet": false,
    "run_control": {
     "read_only": false
    }
   },
   "outputs": [],
   "source": [
    "# type your solution"
   ]
  },
  {
   "cell_type": "code",
   "execution_count": null,
   "metadata": {},
   "outputs": [],
   "source": []
  }
 ],
 "metadata": {
  "kernelspec": {
   "display_name": "Python 3 (ipykernel)",
   "language": "python",
   "name": "python3"
  },
  "language_info": {
   "codemirror_mode": {
    "name": "ipython",
    "version": 3
   },
   "file_extension": ".py",
   "mimetype": "text/x-python",
   "name": "python",
   "nbconvert_exporter": "python",
   "pygments_lexer": "ipython3",
   "version": "3.13.2"
  },
  "widgets": {
   "state": {},
   "version": "1.1.2"
  }
 },
 "nbformat": 4,
 "nbformat_minor": 4
}
